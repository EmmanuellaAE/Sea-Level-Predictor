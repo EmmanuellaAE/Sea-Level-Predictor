{
 "cells": [
  {
   "cell_type": "code",
   "execution_count": 16,
   "id": "aba097af",
   "metadata": {},
   "outputs": [],
   "source": [
    "import pandas as pd\n",
    "import matplotlib.pyplot as plt\n",
    "from scipy.stats import linregress"
   ]
  },
  {
   "cell_type": "code",
   "execution_count": 17,
   "id": "3afaca1a",
   "metadata": {},
   "outputs": [],
   "source": [
    "def draw_plot():\n",
    "    # Read data from file\n",
    "    df = pd.read_csv(\"epa-sea-level.csv\")\n",
    "\n",
    "    # Create scatter plot\n",
    "    plt.scatter(df['Year'], df['CSIRO Adjusted Sea Level'])\n",
    "\n",
    "    # Create first line of best fit\n",
    "    res = linregress(df['Year'], df['CSIRO Adjusted Sea Level'])\n",
    "    x = pd.Series([i for i in range(1880,2051)])\n",
    "    y = res.intercept + res.slope * x\n",
    "    plt.plot(x , y , 'o', label= \"1880-2050 predict\")\n",
    "\n",
    "    # Create second line of best fit\n",
    "    new_df = df[df['Year'] >= 2000]\n",
    "    res1 = linregress(new_df['Year'], new_df['CSIRO Adjusted Sea Level'])\n",
    "    x1 = pd.Series([i for i in range(2000,2051)])\n",
    "    y1 = res1.intercept + res1.slope * x1\n",
    "    plt.plot(x1 , y1 , 'r', label= \"2000-2050 predict\")\n",
    "\n",
    "    # Add labels and title\n",
    "    plt.title(\"Rise in Sea Level\")\n",
    "    plt.xlabel(\"Year\")\n",
    "    plt.ylabel(\"Sea Level (inches)\")\n",
    "    \n",
    "    # Save plot and return data for testing (DO NOT MODIFY)\n",
    "    plt.savefig('sea_level_plot.png')\n",
    "    return plt.gca()"
   ]
  },
  {
   "cell_type": "code",
   "execution_count": null,
   "id": "2413a3f7",
   "metadata": {},
   "outputs": [],
   "source": []
  }
 ],
 "metadata": {
  "kernelspec": {
   "display_name": "Python 3 (ipykernel)",
   "language": "python",
   "name": "python3"
  },
  "language_info": {
   "codemirror_mode": {
    "name": "ipython",
    "version": 3
   },
   "file_extension": ".py",
   "mimetype": "text/x-python",
   "name": "python",
   "nbconvert_exporter": "python",
   "pygments_lexer": "ipython3",
   "version": "3.9.7"
  }
 },
 "nbformat": 4,
 "nbformat_minor": 5
}
